{
  "nbformat": 4,
  "nbformat_minor": 0,
  "metadata": {
    "colab": {
      "provenance": [],
      "authorship_tag": "ABX9TyMu2PhOnjI9KDWBWcRo3Ftf",
      "include_colab_link": true
    },
    "kernelspec": {
      "name": "python3",
      "display_name": "Python 3"
    },
    "language_info": {
      "name": "python"
    }
  },
  "cells": [
    {
      "cell_type": "markdown",
      "metadata": {
        "id": "view-in-github",
        "colab_type": "text"
      },
      "source": [
        "<a href=\"https://colab.research.google.com/github/202211942/data-structure-lab-2025/blob/master/Untitled2.ipynb\" target=\"_parent\"><img src=\"https://colab.research.google.com/assets/colab-badge.svg\" alt=\"Open In Colab\"/></a>"
      ]
    },
    {
      "cell_type": "code",
      "execution_count": null,
      "metadata": {
        "id": "Ftnk3Lok5jZD"
      },
      "outputs": [],
      "source": [
        "#include <iostream>\n",
        "#include <stack>\n",
        "#include <string>\n",
        "\n",
        "using namespace std;\n",
        "\n",
        "bool par_checker(const string& expr) {\n",
        "    stack<char> s;\n",
        "    bool balanced = true;\n",
        "    int index = 0;\n",
        "\n",
        "    while (index < expr.length() && balanced) {\n",
        "        char symbol = expr[index];\n",
        "\n",
        "        if (symbol == '(') {\n",
        "            s.push(symbol);\n",
        "        } else if (symbol == ')') {\n",
        "            if (s.empty()) {\n",
        "                balanced = false;\n",
        "            } else {\n",
        "                s.pop();\n",
        "            }\n",
        "        }\n",
        "        index++;\n",
        "    }\n",
        "\n",
        "    return balanced && s.empty();\n",
        "}\n",
        "\n",
        "int main() {\n",
        "    string expr = \"((2*2)+4)/(2*4*8)\";\n",
        "    if (par_checker(expr)) {\n",
        "        cout << \"Balanced parentheses.\" << endl;\n",
        "    } else {\n",
        "        cout << \"Unbalanced parentheses.\" << endl;\n",
        "    }\n",
        "\n",
        "    return 0;\n",
        "}"
      ]
    }
  ]
}