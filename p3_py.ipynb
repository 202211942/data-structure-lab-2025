{
  "nbformat": 4,
  "nbformat_minor": 0,
  "metadata": {
    "colab": {
      "provenance": [],
      "authorship_tag": "ABX9TyNXZ+acjGfXYGaJX+WP8aGg",
      "include_colab_link": true
    },
    "kernelspec": {
      "name": "python3",
      "display_name": "Python 3"
    },
    "language_info": {
      "name": "python"
    }
  },
  "cells": [
    {
      "cell_type": "markdown",
      "metadata": {
        "id": "view-in-github",
        "colab_type": "text"
      },
      "source": [
        "<a href=\"https://colab.research.google.com/github/202211942/data-structure-lab-2025/blob/master/p3_py.ipynb\" target=\"_parent\"><img src=\"https://colab.research.google.com/assets/colab-badge.svg\" alt=\"Open In Colab\"/></a>"
      ]
    },
    {
      "cell_type": "code",
      "execution_count": null,
      "metadata": {
        "id": "NECb2uh-njEL"
      },
      "outputs": [],
      "source": [
        "from collections import deque\n",
        "\n",
        "def bear_simulation(N, forest):\n",
        "    for i in range(N):\n",
        "        for j in range(N):\n",
        "            if forest[i][j] == 9:\n",
        "                bear_x, bear_y = i, j\n",
        "                forest[i][j] = 0\n",
        "                break\n",
        "\n",
        "    size = 2\n",
        "    eaten = 0\n",
        "    total_time = 0\n",
        "\n",
        "    def bfs(x, y, size):\n",
        "        visited = [[-1]*N for _ in range(N)]\n",
        "        visited[x][y] = 0\n",
        "        queue = deque([(x, y)])\n",
        "        bees = []\n",
        "\n",
        "        directions = [(-1, 0), (0, -1), (0, 1), (1, 0)]\n",
        "\n",
        "        while queue:\n",
        "            cx, cy = queue.popleft()\n",
        "            for dx, dy in directions:\n",
        "                nx, ny = cx + dx, cy + dy\n",
        "                if 0 <= nx < N and 0 <= ny < N and visited[nx][ny] == -1:\n",
        "                    cell = forest[nx][ny]\n",
        "                    if cell <= size:\n",
        "                        visited[nx][ny] = visited[cx][cy] + 1\n",
        "                        queue.append((nx, ny))\n",
        "                        if 0 < cell < size:\n",
        "                            bees.append((visited[nx][ny], nx, ny))\n",
        "\n",
        "        if not bees:\n",
        "            return None\n",
        "        bees.sort()\n",
        "        return bees[0]\n",
        "\n",
        "    while True:\n",
        "        result = bfs(bear_x, bear_y, size)\n",
        "        if result is None:\n",
        "            break\n",
        "        dist, x, y = result\n",
        "        total_time += dist\n",
        "        forest[x][y] = 0\n",
        "        bear_x, bear_y = x, y\n",
        "        eaten += 1\n",
        "        if eaten == size:\n",
        "            size += 1\n",
        "            eaten = 0\n",
        "\n",
        "    return total_time\n",
        "\n",
        "# 🟩 사용자 입력\n",
        "N = int(input(\"숲의 크기 N을 입력하세요: \"))\n",
        "forest = []\n",
        "print(\"숲의 상태를 한 줄씩 입력하세요 (띄어쓰기로 구분):\")\n",
        "for _ in range(N):\n",
        "    row = list(map(int, input().split()))\n",
        "    forest.append(row)\n",
        "\n",
        "# ⏱ 실행 및 출력\n",
        "print(bear_simulation(N, forest))\n",
        "\n",
        "# 🛑 종료 대기\n",
        "input(\"\\n엔터를 누르면 프로그램이 종료됩니다.\")"
      ]
    }
  ]
}