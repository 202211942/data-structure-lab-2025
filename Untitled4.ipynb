{
  "nbformat": 4,
  "nbformat_minor": 0,
  "metadata": {
    "colab": {
      "provenance": [],
      "authorship_tag": "ABX9TyNteehv1Anf2nmNGX5Om0/Y",
      "include_colab_link": true
    },
    "kernelspec": {
      "name": "python3",
      "display_name": "Python 3"
    },
    "language_info": {
      "name": "python"
    }
  },
  "cells": [
    {
      "cell_type": "markdown",
      "metadata": {
        "id": "view-in-github",
        "colab_type": "text"
      },
      "source": [
        "<a href=\"https://colab.research.google.com/github/202211942/data-structure-lab-2025/blob/master/Untitled4.ipynb\" target=\"_parent\"><img src=\"https://colab.research.google.com/assets/colab-badge.svg\" alt=\"Open In Colab\"/></a>"
      ]
    },
    {
      "cell_type": "code",
      "execution_count": null,
      "metadata": {
        "id": "33OCq7JkOuXX"
      },
      "outputs": [],
      "source": [
        "#include <stdio.h>\n",
        "\n",
        "void selection_sort(int a_list[], int size) {\n",
        "    int fill_slot, pos_of_max, location, temp;\n",
        "\n",
        "    for (fill_slot = size - 1; fill_slot > 0; fill_slot--) {\n",
        "        pos_of_max = 0;\n",
        "        for (location = 1; location <= fill_slot; location++) {\n",
        "            if (a_list[location] > a_list[pos_of_max]) {\n",
        "                pos_of_max = location;\n",
        "            }\n",
        "        }\n",
        "        // Swap\n",
        "        temp = a_list[fill_slot];\n",
        "        a_list[fill_slot] = a_list[pos_of_max];\n",
        "        a_list[pos_of_max] = temp;\n",
        "    }\n",
        "}\n",
        "\n",
        "void print_array(int a_list[], int size) {\n",
        "    for (int i = 0; i < size; i++) {\n",
        "        printf(\"%d \", a_list[i]);\n",
        "    }\n",
        "    printf(\"\\n\");\n",
        "}\n",
        "\n",
        "int main() {\n",
        "    int data[] = {64, 25, 12, 22, 11};\n",
        "    int size = sizeof(data) / sizeof(data[0]);\n",
        "\n",
        "    printf(\"Before sorting: \");\n",
        "    print_array(data, size);\n",
        "\n",
        "    selection_sort(data, size);\n",
        "\n",
        "    printf(\"After sorting: \");\n",
        "    print_array(data, size);\n",
        "\n",
        "    return 0;\n",
        "}"
      ]
    },
    {
      "cell_type": "code",
      "source": [
        "#include <stdio.h>\n",
        "\n",
        "void insertion_sort(int a_list[], int size) {\n",
        "    int index, position, current_value;\n",
        "\n",
        "    for (index = 1; index < size; index++) {\n",
        "        current_value = a_list[index];\n",
        "        position = index;\n",
        "\n",
        "        while (position > 0 && a_list[position - 1] > current_value) {\n",
        "            a_list[position] = a_list[position - 1];\n",
        "            position--;\n",
        "        }\n",
        "\n",
        "        a_list[position] = current_value;\n",
        "    }\n",
        "}\n",
        "\n",
        "void print_array(int a_list[], int size) {\n",
        "    for (int i = 0; i < size; i++) {\n",
        "        printf(\"%d \", a_list[i]);\n",
        "    }\n",
        "    printf(\"\\n\");\n",
        "}\n",
        "\n",
        "int main() {\n",
        "    int data[] = {64, 25, 12, 22, 11};\n",
        "    int size = sizeof(data) / sizeof(data[0]);\n",
        "\n",
        "    printf(\"Before sorting: \");\n",
        "    print_array(data, size);\n",
        "\n",
        "    insertion_sort(data, size);\n",
        "\n",
        "    printf(\"After sorting: \");\n",
        "    print_array(data, size);\n",
        "\n",
        "    return 0;\n",
        "}"
      ],
      "metadata": {
        "id": "TVdqHaOlPKg-"
      },
      "execution_count": null,
      "outputs": []
    }
  ]
}