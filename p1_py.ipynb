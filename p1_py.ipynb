{
  "nbformat": 4,
  "nbformat_minor": 0,
  "metadata": {
    "colab": {
      "provenance": [],
      "authorship_tag": "ABX9TyPVd6wnsjgGZICvOyqKN8Ci",
      "include_colab_link": true
    },
    "kernelspec": {
      "name": "python3",
      "display_name": "Python 3"
    },
    "language_info": {
      "name": "python"
    }
  },
  "cells": [
    {
      "cell_type": "markdown",
      "metadata": {
        "id": "view-in-github",
        "colab_type": "text"
      },
      "source": [
        "<a href=\"https://colab.research.google.com/github/202211942/data-structure-lab-2025/blob/master/p1_py.ipynb\" target=\"_parent\"><img src=\"https://colab.research.google.com/assets/colab-badge.svg\" alt=\"Open In Colab\"/></a>"
      ]
    },
    {
      "cell_type": "code",
      "execution_count": null,
      "metadata": {
        "id": "z9C7y4GVm0HB"
      },
      "outputs": [],
      "source": [
        "# 다섯 개의 자연수를 입력받아 평균과 중앙값을 구하는 프로그램\n",
        "\n",
        "# 입력 받기\n",
        "numbers = [int(input()) for _ in range(5)]\n",
        "\n",
        "# 평균 계산 (자연수로, 소수점 이하 버림)\n",
        "average = sum(numbers) // 5\n",
        "\n",
        "# 중앙값 계산\n",
        "sorted_numbers = sorted(numbers)\n",
        "median = sorted_numbers[2]  # 인덱스 2는 다섯 개 중 세 번째 숫자\n",
        "\n",
        "# 출력\n",
        "print(average)\n",
        "print(median)\n",
        "\n",
        "# 프로그램이 바로 종료되지 않도록 대기\n",
        "input(\"\\n엔터를 누르면 종료됩니다.\")"
      ]
    }
  ]
}