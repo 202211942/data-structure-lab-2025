{
  "nbformat": 4,
  "nbformat_minor": 0,
  "metadata": {
    "colab": {
      "provenance": [],
      "authorship_tag": "ABX9TyPLf2v8GaAK/6P/6uRjgVqX",
      "include_colab_link": true
    },
    "kernelspec": {
      "name": "python3",
      "display_name": "Python 3"
    },
    "language_info": {
      "name": "python"
    }
  },
  "cells": [
    {
      "cell_type": "markdown",
      "metadata": {
        "id": "view-in-github",
        "colab_type": "text"
      },
      "source": [
        "<a href=\"https://colab.research.google.com/github/202211942/data-structure-lab-2025/blob/master/p2_py.ipynb\" target=\"_parent\"><img src=\"https://colab.research.google.com/assets/colab-badge.svg\" alt=\"Open In Colab\"/></a>"
      ]
    },
    {
      "cell_type": "code",
      "execution_count": null,
      "metadata": {
        "id": "jA1VIiSYnTcQ"
      },
      "outputs": [],
      "source": [
        "# 사용자로부터 올바르지 않은 괄호열 입력 받기\n",
        "s = input(\"괄호열을 입력하세요: \")\n",
        "\n",
        "open_needed = 0  # 앞에 추가할 '(' 개수\n",
        "balance = 0      # 남은 '('의 개수\n",
        "\n",
        "# 괄호열을 한 문자씩 순회하면서 균형을 맞춤\n",
        "for char in s:\n",
        "    if char == '(':\n",
        "        balance += 1\n",
        "    else:  # char == ')'\n",
        "        if balance > 0:\n",
        "            balance -= 1\n",
        "        else:\n",
        "            open_needed += 1  # ')'에 대응할 '('가 없음 → 앞에 추가 필요\n",
        "\n",
        "# 결과 출력: 앞에 붙일 괄호 + 뒤에 붙일 괄호\n",
        "print(open_needed + balance)\n",
        "\n",
        "# 결과 확인을 위해 엔터를 눌러야 종료되도록\n",
        "input(\"\\n엔터를 누르면 프로그램이 종료됩니다.\")"
      ]
    }
  ]
}